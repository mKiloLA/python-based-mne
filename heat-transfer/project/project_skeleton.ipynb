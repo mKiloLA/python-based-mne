{
 "cells": [
  {
   "cell_type": "markdown",
   "metadata": {},
   "source": [
    "# Heat Exchanger Design Project"
   ]
  },
  {
   "cell_type": "markdown",
   "metadata": {},
   "source": [
    "## Problem Statement\n",
    "A heat exchanger manufacturing firm has hired your team to design a shell and tube heat exchanger. The heat\n",
    "exchanger is expected to heat 10,000 kg/h of water flowing through the tubes from 16 to 84°C. The hot\n",
    "engine oil flowing through the shell is used for heating the water. The oil makes a single shell pass, entering\n",
    "at 160°C and leaving at 94°C, with an average overall heat transfer coefficient Uh = 400 W/m²-K. The water\n",
    "flows through 11 brass tubes (k = 137 W/m.K) of 22.9-mm inside diameter and 25.4-mm outside\n",
    "diameter, with each tube making four passes through the shell, as shown below\n",
    "\n",
    "Declare known variables, make necessary imports, and interpolate for property values."
   ]
  },
  {
   "cell_type": "code",
   "execution_count": 1,
   "metadata": {},
   "outputs": [],
   "source": [
    "import math as m\n",
    "import matplotlib.pyplot as plt\n",
    "import pandas as pd\n",
    "\n",
    "from MNE.heat_transfer import water_properties, oil_properties, reynolds_num"
   ]
  },
  {
   "cell_type": "markdown",
   "metadata": {},
   "source": [
    "## Part A<br />\n",
    "Write a computer program to determine the required tube length per pass, assuming fully developed flow conditions for the water. Use correction factor F = 0.86 when using LMTD method. The tube is considered relatively new with a fouling factor of R\"=0.002 K*m^2/W for the water side."
   ]
  },
  {
   "cell_type": "code",
   "execution_count": null,
   "metadata": {},
   "outputs": [],
   "source": []
  },
  {
   "cell_type": "markdown",
   "metadata": {},
   "source": [
    "## Part B<br />\n",
    "For the tube length found in part A, calculate the water-side\n",
    "        convection coefficient, water outlet temperature, oil outlet \n",
    "        temperature, and effectiveness as a function of the water flow rate\n",
    "        for 5000 < m < 15,000 kg/hr, (use 1000 Kg/hr increment) with all \n",
    "        other conditions remaining the same. Present all the calculated \n",
    "        results in a table for 3 mass flow rates (8000, 10000, 12000, 15000)."
   ]
  },
  {
   "cell_type": "code",
   "execution_count": null,
   "metadata": {},
   "outputs": [],
   "source": []
  },
  {
   "cell_type": "markdown",
   "metadata": {},
   "source": [
    "## Part C\n",
    "\n",
    "Plot the results of part B. Scale each variable so that all are presented on the same graph."
   ]
  },
  {
   "cell_type": "code",
   "execution_count": null,
   "metadata": {},
   "outputs": [],
   "source": []
  }
 ],
 "metadata": {
  "interpreter": {
   "hash": "7a8b8215c911262f24eb0ead0465dffbfd32fb61c543d5443b6c0952a808f3eb"
  },
  "kernelspec": {
   "display_name": "Python 3.9.4 64-bit",
   "language": "python",
   "name": "python3"
  },
  "language_info": {
   "codemirror_mode": {
    "name": "ipython",
    "version": 3
   },
   "file_extension": ".py",
   "mimetype": "text/x-python",
   "name": "python",
   "nbconvert_exporter": "python",
   "pygments_lexer": "ipython3",
   "version": "3.12.0"
  },
  "orig_nbformat": 4
 },
 "nbformat": 4,
 "nbformat_minor": 2
}
