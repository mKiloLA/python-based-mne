{
 "cells": [
  {
   "cell_type": "markdown",
   "metadata": {},
   "source": [
    "# ME 513: Thermodynamics Assignment 1"
   ]
  },
  {
   "cell_type": "markdown",
   "metadata": {},
   "source": [
    "## 0. Problem Statement\n",
    "\n",
    "Water is the working fluid in a Rankine cycle. Steam exits the steam generator at 1500 lbf/in<sup>2</sup>  and 1100°F. Due to heat transfer and frictional effects in the line connecting the steam generator and turbine, the pressure and temperature at the turbine inlet are reduced to 1400 lbf/in<sup>2</sup> and 1000°F, respectively. Both the turbine and pump have isentropic efficiencies of 85%. Pressure at the condenser inlet is 2 lbf/in<sup>2</sup>, but due to frictional effects the condensate exits the condenser at a pressure of 1.5 lbf/in<sup>2</sup> and a temperature of 110°F. The condensate is pumped to 1600 lbf/in<sup>2</sup> before entering the steam generator. The net power output of the cycle is 1x10<sup>9</sup> Btu/h. Cooling water experiences a temperature increase from 60°F to 76°F, with negligible pressure drop, as it passes through the condenser. Determine for the cycle\n",
    "\n",
    "1. the mass flow rate of steam, in lb/h.\n",
    "2. the rate of heat transfer, in Btu/h, to the working fluid passing through the steam generator. \n",
    "3. the thermal efficiency.\n",
    "4. the mass flow rate of cooling water, in lb/h.\n",
    "\n",
    "Be sure to leave specify all assumptions and comment on the functionality of the code. To access thermodynamic tables, install PYroMat using the cell below."
   ]
  },
  {
   "cell_type": "code",
   "execution_count": 66,
   "metadata": {
    "vscode": {
     "languageId": "shellscript"
    }
   },
   "outputs": [],
   "source": [
    "# pip install pyromat"
   ]
  },
  {
   "cell_type": "markdown",
   "metadata": {},
   "source": [
    "Below are suggested imports for completing the project. Be sure to run the imports before running any code. Additional code is provided for setting the units that returned values will have."
   ]
  },
  {
   "cell_type": "code",
   "execution_count": null,
   "metadata": {},
   "outputs": [],
   "source": [
    "import pyromat\n",
    "\n",
    "pyromat.config[\"unit_energy\"] = \"BTU\"\n",
    "pyromat.config[\"unit_force\"] = \"lbf\"\n",
    "pyromat.config[\"unit_length\"] = \"in\"\n",
    "pyromat.config[\"unit_mass\"] = \"lb\"\n",
    "pyromat.config[\"unit_matter\"] = \"lb\"\n",
    "pyromat.config[\"unit_molar\"] = \"lbmol\"\n",
    "pyromat.config[\"unit_pressure\"] = \"psi\"\n",
    "pyromat.config[\"unit_temperature\"] = \"F\"\n",
    "pyromat.config[\"unit_volume\"] = \"ft3\"\n",
    "H2O = pyromat.get(\"mp.H2O\")"
   ]
  },
  {
   "cell_type": "markdown",
   "metadata": {},
   "source": [
    "Before solving the four questions, the states must be set."
   ]
  },
  {
   "cell_type": "code",
   "execution_count": 68,
   "metadata": {},
   "outputs": [],
   "source": [
    "# State 1\n",
    "p1 = 1400 # lbf/in^2\n",
    "T1 = 1000 # deg F\n",
    "n1 = 0.85 # dimensionless\n",
    "h1 = H2O.h(T=T1, p=p1) # Btu/lb\n",
    "s1 = H2O.s(T=T1, p=p1) # Btu/(lb*F)\n",
    "\n",
    "# State 2\n",
    "p2 = 2 # lbf/in^2\n",
    "x2s = (H2O.T(p=p2, s=s1, quality=True)[1]) # dimensionless\n",
    "h2s = H2O.h(p=p2, x=x2s) # Btu/lb\n",
    "h2 = h1 - n1*(h1 - h2s) # Btu/lb\n",
    "\n",
    "# State 3\n",
    "p3 = 1.5 # lbf/in^2\n",
    "T3 = 110 # def F\n",
    "h3 = H2O.h(T=T3, p=p3) # Btu/lb\n",
    "v3 = H2O.v(T=T3, p=p3) # ft^3/lb\n",
    "\n",
    "# State 4\n",
    "p4 = 1600 # lbf/in^2\n",
    "n4 = 0.85 # dimensionless\n",
    "h4 = h3 + (144 / 778) * v3 * n4 * (p4 - p3) # Btu/lb\n",
    "\n",
    "# State 5\n",
    "p5 = 1500 # lbf/in^2\n",
    "T5 = 1100 # deg F\n",
    "h5 = H2O.h(T=T5, p=p5) # Btu/lb\n",
    "\n",
    "W_net = 1e9 # Btu/hr\n",
    "Ta = 60 # deg F\n",
    "Tb = 76 # deg F"
   ]
  },
  {
   "cell_type": "markdown",
   "metadata": {},
   "source": [
    "## 1. The Mass Flow Rate of the Steam"
   ]
  },
  {
   "cell_type": "code",
   "execution_count": 69,
   "metadata": {},
   "outputs": [
    {
     "name": "stdout",
     "output_type": "stream",
     "text": [
      "m_dot = 2.12E+06 lb/hr\n"
     ]
    }
   ],
   "source": [
    "m_dot = W_net / ((h1 - h2) - (h4 - h3))\n",
    "print(f\"m_dot = {m_dot[0]:.2E} lb/hr\")"
   ]
  },
  {
   "cell_type": "markdown",
   "metadata": {},
   "source": [
    "## 2. The Rate of Heat Transfer"
   ]
  },
  {
   "cell_type": "code",
   "execution_count": 70,
   "metadata": {},
   "outputs": [
    {
     "name": "stdout",
     "output_type": "stream",
     "text": [
      "Q_dot = 3.11E+09 Btu/hr\n"
     ]
    }
   ],
   "source": [
    "Q_dot = m_dot * (h5 - h4)\n",
    "print(f\"Q_dot = {Q_dot[0]:.2E} Btu/hr\")"
   ]
  },
  {
   "cell_type": "markdown",
   "metadata": {},
   "source": [
    "## 3. The Thermal Efficiency"
   ]
  },
  {
   "cell_type": "code",
   "execution_count": 71,
   "metadata": {},
   "outputs": [
    {
     "name": "stdout",
     "output_type": "stream",
     "text": [
      "n_efficiency = 32.11%\n"
     ]
    }
   ],
   "source": [
    "n_eff = W_net / Q_dot\n",
    "print(f\"n_efficiency = {100 * n_eff[0]:.2f}%\")"
   ]
  },
  {
   "cell_type": "markdown",
   "metadata": {},
   "source": [
    "## 4. The Mass Flow Rate of Cooling Water"
   ]
  },
  {
   "cell_type": "code",
   "execution_count": 72,
   "metadata": {},
   "outputs": [
    {
     "name": "stdout",
     "output_type": "stream",
     "text": [
      "m_dot_cw = 1.25E+08 lb/hr\n"
     ]
    }
   ],
   "source": [
    "m_dot_cw = m_dot * (h2 - h3) / (H2O.h(T=Tb) - H2O.h(T=Ta))\n",
    "print(f\"m_dot_cw = {m_dot_cw[0]:.2E} lb/hr\")"
   ]
  }
 ],
 "metadata": {
  "kernelspec": {
   "display_name": "Python 3",
   "language": "python",
   "name": "python3"
  },
  "language_info": {
   "codemirror_mode": {
    "name": "ipython",
    "version": 3
   },
   "file_extension": ".py",
   "mimetype": "text/x-python",
   "name": "python",
   "nbconvert_exporter": "python",
   "pygments_lexer": "ipython3",
   "version": "3.12.0"
  }
 },
 "nbformat": 4,
 "nbformat_minor": 2
}
