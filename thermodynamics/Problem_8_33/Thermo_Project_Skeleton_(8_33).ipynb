{
 "cells": [
  {
   "cell_type": "markdown",
   "metadata": {},
   "source": [
    "# ME 513: Thermodynamics Project"
   ]
  },
  {
   "cell_type": "markdown",
   "metadata": {},
   "source": [
    "## 0. Problem Statement\n",
    "\n",
    "Steam heated at constant pressure in a steam generator enters the first stage of a\n",
    "supercritical reheat cycle at 28 MPa, 520°C. Steam exiting the first-stage turbine at 6 MPa is\n",
    "reheated at constant pressure to 500°C. Each turbine stage has an isentropic efficiency of 78%\n",
    "while the pump has an isentropic efficiency of 82%. Saturated liquid exits the condenser that\n",
    "operates at constant pressure, p.\n",
    "\n",
    "1. For p = 6 kPa, determine the quality of the steam exiting the second stage of the turbine and the thermal efficiency.\n",
    "2. Plot the quantities of part (1) versus p ranging from 4 kPa to 70 kPa.\n",
    "\n",
    "Be sure to specify all assumptions and comment on the functionality of the code. To access thermodynamic tables, uncomment and run the line below to install PYroMat."
   ]
  },
  {
   "cell_type": "code",
   "execution_count": null,
   "metadata": {
    "vscode": {
     "languageId": "shellscript"
    }
   },
   "outputs": [],
   "source": [
    "# pip install pyromat\n",
    "# pip install matplotlib"
   ]
  },
  {
   "cell_type": "markdown",
   "metadata": {},
   "source": [
    "Below are suggested imports for completing the project. Be sure to run the imports before running any code. Additional code is provided for setting the units that returned values will have."
   ]
  },
  {
   "cell_type": "code",
   "execution_count": 6,
   "metadata": {},
   "outputs": [],
   "source": [
    "import pyromat\n",
    "import matplotlib\n",
    "\n",
    "# pyromat.config[\"unit_energy\"] = \"BTU\"\n",
    "# pyromat.config[\"unit_force\"] = \"lbf\"\n",
    "# pyromat.config[\"unit_length\"] = \"in\"\n",
    "# pyromat.config[\"unit_mass\"] = \"lb\"\n",
    "# pyromat.config[\"unit_matter\"] = \"lb\"\n",
    "# pyromat.config[\"unit_molar\"] = \"lbmol\"\n",
    "pyromat.config[\"unit_pressure\"] = \"MPa\"\n",
    "pyromat.config[\"unit_temperature\"] = \"C\"\n",
    "# pyromat.config[\"unit_volume\"] = \"ft3\"\n",
    "H2O = pyromat.get(\"mp.H2O\")"
   ]
  },
  {
   "cell_type": "markdown",
   "metadata": {},
   "source": [
    "Before solving, the states must be set."
   ]
  },
  {
   "cell_type": "code",
   "execution_count": null,
   "metadata": {},
   "outputs": [],
   "source": [
    "pass"
   ]
  },
  {
   "cell_type": "markdown",
   "metadata": {},
   "source": [
    "## 1. Quality of the Steam and Thermal Efficiency"
   ]
  },
  {
   "cell_type": "code",
   "execution_count": 8,
   "metadata": {},
   "outputs": [],
   "source": [
    "pass"
   ]
  },
  {
   "cell_type": "markdown",
   "metadata": {},
   "source": [
    "## 2. Plot for a Range of Pressures"
   ]
  },
  {
   "cell_type": "code",
   "execution_count": null,
   "metadata": {},
   "outputs": [],
   "source": [
    "pass"
   ]
  }
 ],
 "metadata": {
  "kernelspec": {
   "display_name": "Python 3",
   "language": "python",
   "name": "python3"
  },
  "language_info": {
   "codemirror_mode": {
    "name": "ipython",
    "version": 3
   },
   "file_extension": ".py",
   "mimetype": "text/x-python",
   "name": "python",
   "nbconvert_exporter": "python",
   "pygments_lexer": "ipython3",
   "version": "3.11.5"
  }
 },
 "nbformat": 4,
 "nbformat_minor": 2
}
