{
 "cells": [
  {
   "cell_type": "markdown",
   "metadata": {},
   "source": [
    "# Final Exam"
   ]
  },
  {
   "cell_type": "markdown",
   "metadata": {},
   "source": [
    "This code can be used to launch the equation finder and plotter. You can comment this code out to prevent it from running."
   ]
  },
  {
   "cell_type": "code",
   "execution_count": 14,
   "metadata": {},
   "outputs": [
    {
     "name": "stdout",
     "output_type": "stream",
     "text": [
      "\n"
     ]
    }
   ],
   "source": [
    "import subprocess\n",
    "\n",
    "output = subprocess.run(\n",
    "    [\"python\", \"-m\", \"singularity\"], \n",
    "    shell=True, \n",
    "    capture_output=True,\n",
    "    cwd=\"./MNE/machine_design\"\n",
    ")\n",
    "print(output.stdout.decode(\"ascii\"))"
   ]
  },
  {
   "cell_type": "markdown",
   "metadata": {},
   "source": [
    "## Question 1"
   ]
  },
  {
   "cell_type": "markdown",
   "metadata": {},
   "source": [
    "The following beam is subjected to the load shown. Determine the equation for deformation. The beam is made of aluminum and has an I = 156 in<sup>4</sup>. Assume EI is constant. Graph the shear, moment, slope, and deflection.\n",
    "\n",
    "![p1_diagram](./question_images/p1_diagram.png)"
   ]
  },
  {
   "cell_type": "markdown",
   "metadata": {},
   "source": [
    "Before using the plotter, the reaction forces and the dimensions of the beam need to be found. We will start with the reaction forces. While this questions is easy enough to solve manually, a prorgammatic approach is shown below."
   ]
  },
  {
   "cell_type": "code",
   "execution_count": 9,
   "metadata": {},
   "outputs": [
    {
     "name": "stdout",
     "output_type": "stream",
     "text": [
      "Ra = 12\n",
      "Rb = 12\n"
     ]
    }
   ],
   "source": [
    "from sympy import symbols, solve\n",
    "\n",
    "Ra, Rb = symbols(\"Ra Rb\")\n",
    "\n",
    "sum_y = Ra + Rb -3*8\n",
    "sum_m = -5 - 4*Ra + 3*8*8 - 12*Rb + 5\n",
    "\n",
    "reactions = solve([sum_y, sum_m], [Ra, Rb])\n",
    "print(f\"Ra = {reactions[Ra]}\")\n",
    "print(f\"Rb = {reactions[Rb]}\")\n"
   ]
  },
  {
   "cell_type": "markdown",
   "metadata": {},
   "source": [
    "Since an inertia value is given, we need to find the equivalent width and height of a rectangle to get that value. The plotter assumes a rectangular cross section. For simplicity, assume that the height is 1\" so that only the base dimension changes."
   ]
  },
  {
   "cell_type": "code",
   "execution_count": 11,
   "metadata": {},
   "outputs": [
    {
     "name": "stdout",
     "output_type": "stream",
     "text": [
      "h = 1\n",
      "b = 1872.0\n"
     ]
    }
   ],
   "source": [
    "I = 156\n",
    "h = 1\n",
    "b = 12*I / h**3\n",
    "\n",
    "print(f\"h = {h}\")\n",
    "print(f\"b = {b}\")"
   ]
  },
  {
   "cell_type": "markdown",
   "metadata": {},
   "source": [
    "There is actually one more piece of information needed to use the plotter: two boundary conditions are needed. For this question, the delfection at 4ft and 1ft is zero. With that, the plotter can be used and outputs the following:\n",
    "\n",
    "![q1_solution](./solution_images/q1_solution.png)"
   ]
  },
  {
   "cell_type": "markdown",
   "metadata": {},
   "source": [
    "## Question 2"
   ]
  },
  {
   "cell_type": "markdown",
   "metadata": {},
   "source": [
    "The following beam is subjected to the load shown. Determine the equation for deformation. The beam is made of steel and has an I = 204<sup>4</sup>.\n",
    "\n",
    "![p2_diagram](./question_images/p2_diagram.png)"
   ]
  },
  {
   "cell_type": "markdown",
   "metadata": {},
   "source": [
    "Before using the plotter, the reaction forces and the dimensions of the beam need to be found. We will start with the reaction forces. While this questions is easy enough to solve manually, a prorgammatic approach is shown below."
   ]
  },
  {
   "cell_type": "code",
   "execution_count": 12,
   "metadata": {},
   "outputs": [
    {
     "name": "stdout",
     "output_type": "stream",
     "text": [
      "Ra = -3/2\n",
      "Rb = 45/2\n"
     ]
    }
   ],
   "source": [
    "from sympy import symbols, Eq, solve\n",
    "\n",
    "Ra, Rb = symbols(\"Ra Rb\")\n",
    "\n",
    "sum_y = Ra - 6 + Rb - 2*6 - 3\n",
    "sum_m = 6*6 - Rb*12 + 2*6*15 + 3*18\n",
    "\n",
    "reactions = solve([sum_y, sum_m], [Ra, Rb])\n",
    "print(f\"Ra = {reactions[Ra]}\")\n",
    "print(f\"Rb = {reactions[Rb]}\")"
   ]
  },
  {
   "cell_type": "markdown",
   "metadata": {},
   "source": [
    "Since an inertia value is given, we need to find the equivalent width and height of a rectangle to get that value. The plotter assumes a rectangular cross section. For simplicity, assume that the height is 1\" so that only the base dimension changes."
   ]
  },
  {
   "cell_type": "code",
   "execution_count": 13,
   "metadata": {},
   "outputs": [
    {
     "name": "stdout",
     "output_type": "stream",
     "text": [
      "h = 1\n",
      "b = 2448.0\n"
     ]
    }
   ],
   "source": [
    "I = 204\n",
    "h = 1\n",
    "b = 12*I / h**3\n",
    "\n",
    "print(f\"h = {h}\")\n",
    "print(f\"b = {b}\")"
   ]
  },
  {
   "cell_type": "markdown",
   "metadata": {},
   "source": [
    "There is actually one more piece of information needed to use the plotter: two boundary conditions are needed. For this question, the delfection at 0ft and 12ft is zero. With that, the plotter can be used and outputs the following:\n",
    "\n",
    "![q2_solution](./solution_images/q2_solution.png)"
   ]
  }
 ],
 "metadata": {
  "kernelspec": {
   "display_name": "Python 3",
   "language": "python",
   "name": "python3"
  },
  "language_info": {
   "codemirror_mode": {
    "name": "ipython",
    "version": 3
   },
   "file_extension": ".py",
   "mimetype": "text/x-python",
   "name": "python",
   "nbconvert_exporter": "python",
   "pygments_lexer": "ipython3",
   "version": "3.12.0"
  }
 },
 "nbformat": 4,
 "nbformat_minor": 2
}
