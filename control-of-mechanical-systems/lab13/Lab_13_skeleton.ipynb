{
 "cells": [
  {
   "cell_type": "markdown",
   "metadata": {},
   "source": [
    "# Lab 13: Frequency Response"
   ]
  },
  {
   "cell_type": "markdown",
   "metadata": {},
   "source": [
    "## Setup and Constants\n",
    "Fill in the constraints required for the model. The spring constant, *k<sub>s</sub>*, was determined in Lab 4 to be ~0.2 Nm/rad"
   ]
  },
  {
   "cell_type": "code",
   "execution_count": null,
   "metadata": {},
   "outputs": [],
   "source": [
    "%matplotlib widget\n",
    "from matplotlib.pyplot import figure, xlabel, ylabel, legend, show, title, subplot, semilogx\n",
    "from control.matlab import tf, bode\n",
    "from control.lti import damp\n",
    "from numpy import log10, array\n",
    "from math import pi"
   ]
  },
  {
   "cell_type": "code",
   "execution_count": null,
   "metadata": {},
   "outputs": [],
   "source": [
    "ks = 0.2 # N-m/rad\n",
    "J = 1.29e-5 # kg-m^2\n",
    "kt = 0.5 # N-m/A\n",
    "b = 2e-4 # N-m-s\n",
    "kdr = 180/pi # deg/rad\n",
    "s = tf('s')"
   ]
  },
  {
   "cell_type": "markdown",
   "metadata": {},
   "source": [
    "## Initial Estimates Transfer Function\n",
    "\n",
    "Use the values aboe to create an open loop transfer function, G, for the plant. You can verify your transfer function by checking the poles. They should be $-7.75 ± 124.3i$"
   ]
  },
  {
   "cell_type": "code",
   "execution_count": null,
   "metadata": {},
   "outputs": [],
   "source": [
    "G = kdr*kt/(J*s**2+b*s+ks)\n",
    "_ = damp(G)"
   ]
  },
  {
   "cell_type": "markdown",
   "metadata": {},
   "source": [
    "## Bode Plots - Initial Estimates"
   ]
  },
  {
   "cell_type": "code",
   "execution_count": null,
   "metadata": {},
   "outputs": [],
   "source": [
    "figure()\n",
    "bode(G) # Do the graph\n",
    "show()\n",
    "\n",
    "m, p, w = bode(G) # Collect the magnitude, phase and\n",
    "                  # frequency vector from the bode plot           \n",
    "                 \n",
    "m = 20 * log10(m) # convert to dB - note we use \"log10()\"\n",
    "p = (180 / pi) * p # Convert radians to degrees\n",
    "\n",
    "# experimental data points from Data Table in lab handout\n",
    "fdata = array([???, ???, ???, ???, ???]) # experimental frequencies\n",
    "wdata = fdata * 2 * pi # convert Hz to rad/s\n",
    "magdata = array([???, ???, ???, ???, ???]) # experimental mag ratio\n",
    "phdata = array([???, ???, ???, ???, ???]) # experimental phase\n",
    "\n",
    "figure()\n",
    "subplot(2, 1, 1)\n",
    "semilogx(w, m, wdata, magdata, '*')\n",
    "title('Bode Plot') \n",
    "ylabel('magnitude (dB)') \n",
    "xlabel('freq (rad/s)')\n",
    "\n",
    "subplot(2, 1, 2) \n",
    "semilogx(w, p, wdata, phdata, '*')\n",
    "ylabel('phase (deg)') \n",
    "xlabel('freq (rad/s)')\n",
    "show()"
   ]
  },
  {
   "cell_type": "markdown",
   "metadata": {},
   "source": [
    "## Bode plots - Improved Estimates\n",
    "\n",
    "Given the natural frequency and dc gain derived from the table, construct a new transfer function, that will hopefully better match the data."
   ]
  },
  {
   "cell_type": "code",
   "execution_count": null,
   "metadata": {},
   "outputs": [],
   "source": [
    "wn = ???*2*pi # natural freq from data (rad/s)\n",
    "Kdc = ??? # dc gain from data in deg/Amp\n",
    "Mwn = ??? # magnitude ratio at wn from data in deg/Amp\n",
    "zeta = Kdc/Mwn/2 # calculate damping ratio using Mwn and Kdc\n",
    "\n",
    "# put your Gnew here\n",
    "Gnew = ???\n",
    " \n",
    "mnew, pnew, wnew = bode(Gnew) # get magnitude, phase, and freq data\n",
    "mnew = 20 * log10(mnew)\n",
    "pnew = (180 / pi) * pnew # Convert radians to degrees\n",
    " \n",
    "# plot two models and data similar to prior plot before, but\n",
    "# with mnew & pnew added in\n",
    "figure()\n",
    "subplot(2, 1, 1)\n",
    "semilogx(???, ???, w, m, wdata, magdata, '*')\n",
    "title('Bode Plot')\n",
    "ylabel('magnitude (dB)')\n",
    "xlabel('freq (rad/s)')\n",
    "\n",
    "subplot(2, 1, 2); \n",
    "semilogx(???, ???, w, p, wdata, phdata, '*')\n",
    "ylabel('phase (deg)');\n",
    "xlabel('freq (rad/s)')\n",
    "legend(['improved', 'original', 'data'])\n",
    "show()"
   ]
  },
  {
   "cell_type": "markdown",
   "metadata": {},
   "source": [
    "## Better estimates\n",
    "Find an improved, new *k<sub>s</sub>*, *b*, and *k<sub>t</sub>* using &#969;<sub>n</sub>, *J*, and &#950; and the governing equations in the handout (hint: they should not be orders of magnitude different)"
   ]
  },
  {
   "cell_type": "code",
   "execution_count": null,
   "metadata": {},
   "outputs": [],
   "source": [
    "ksnew = ???  # N-m/rad\n",
    "bnew = ???   # N-m-s/rad\n",
    "ktnew = ???  # N-m/A\n",
    "print(\"ksnew: {}, bnew: {}, ktnew: {}\".format(ksnew, bnew, ktnew))"
   ]
  }
 ],
 "metadata": {
  "kernelspec": {
   "display_name": ".venv",
   "language": "python",
   "name": "python3"
  },
  "language_info": {
   "codemirror_mode": {
    "name": "ipython",
    "version": 3
   },
   "file_extension": ".py",
   "mimetype": "text/x-python",
   "name": "python",
   "nbconvert_exporter": "python",
   "pygments_lexer": "ipython3",
   "version": "3.11.0"
  },
  "orig_nbformat": 4
 },
 "nbformat": 4,
 "nbformat_minor": 2
}
