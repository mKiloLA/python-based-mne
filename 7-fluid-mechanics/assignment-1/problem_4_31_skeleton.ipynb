{
 "cells": [
  {
   "cell_type": "markdown",
   "metadata": {},
   "source": [
    "# Question 4.31"
   ]
  },
  {
   "cell_type": "markdown",
   "metadata": {},
   "source": [
    "## Problem Statement\n",
    "\n",
    "As a valve is opened, water flows through the diffuser shown in Fig. P4.31 at an increasing flowrate so that the velocity along the centerline is given by $ \\mathbf{V} = \\it{u}\\mathbf{\\hat{i}}  = V_0(1 - \\rm{e}^{-ct})(1 - \\it{x/l})\\mathbf{\\hat{i}} $, where $\\it{u}$, $ \\it{c} $, and $ \\it{l} $ are constants. Determine the acceleration as a function of $ \\it{x} $ and $ \\it{t} $. If $ V_0 = 10 ft/s $ and $ \\it{l} = 5 $, what value of $ \\it{c} $ (other than $ \\it{c} = 0 $) is needed to make the acceleration 0 for any $ \\it{x} $ at $ \\it{t} = 1s $? Explain how the acceleration can be zero if the flowrate is increasing with time?\n",
    "\n",
    "![Fig P4.31](./fig_p4_31.png)\n"
   ]
  },
  {
   "cell_type": "markdown",
   "metadata": {},
   "source": [
    "## Solution"
   ]
  },
  {
   "cell_type": "code",
   "execution_count": null,
   "metadata": {},
   "outputs": [],
   "source": [
    "from numpy import exp, linspace\n",
    "from scipy.optimize import fsolve\n",
    "\n",
    "from matplotlib import pyplot as plt"
   ]
  }
 ],
 "metadata": {
  "language_info": {
   "name": "python"
  }
 },
 "nbformat": 4,
 "nbformat_minor": 2
}
