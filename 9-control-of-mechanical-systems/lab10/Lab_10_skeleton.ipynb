{
 "cells": [
  {
   "cell_type": "markdown",
   "metadata": {},
   "source": [
    "# Lab 10"
   ]
  },
  {
   "cell_type": "markdown",
   "metadata": {},
   "source": [
    "## Setup and Constants"
   ]
  },
  {
   "cell_type": "code",
   "execution_count": null,
   "metadata": {},
   "outputs": [],
   "source": [
    "%matplotlib widget\n",
    "from matplotlib.pyplot import figure, xlabel, ylabel, legend, show, title, xlim, ylim\n",
    "from custom_functions import plot\n",
    "from control.matlab import tf, step, feedback, pzmap, sisotool, rlocus\n",
    "from math import pi\n",
    "from pandas import read_csv"
   ]
  },
  {
   "cell_type": "code",
   "execution_count": null,
   "metadata": {},
   "outputs": [],
   "source": []
  },
  {
   "cell_type": "markdown",
   "metadata": {},
   "source": [
    "## Transfer functions\n",
    "Create the plant transfer function, Gm, and create the three required controllers - Gc1, Gc2, and Gc3 using the form \n",
    "Gc = Kp + Kd\\*s. Study the equation block in the handout carefully to discover how to manupulate a given Kp and z into Kp and Kd. Then, apply feedback to close the loop on the three open loop systems, GM\\*Gcx, assigning them to T1, T2, and T3. Obtain the closed loop transfer function poles for T1, T2, and T3. "
   ]
  },
  {
   "cell_type": "code",
   "execution_count": null,
   "metadata": {},
   "outputs": [],
   "source": []
  },
  {
   "cell_type": "markdown",
   "metadata": {},
   "source": [
    "## Step responses and plotting\n",
    "\n",
    "Generate a 1 second step response for each closed loop system, Tx. and keep the resulting theta and associated time vectors in variables named thx and tx.  Plot the three responses on the same figure.  Use the help command if you have forgotten how to use step() or plot()."
   ]
  },
  {
   "cell_type": "code",
   "execution_count": null,
   "metadata": {},
   "outputs": [],
   "source": []
  },
  {
   "cell_type": "markdown",
   "metadata": {},
   "source": [
    "## Experimental plots\n",
    "Extract the time and position columns from the three data matrices. Plot them together on the same plot"
   ]
  },
  {
   "cell_type": "code",
   "execution_count": null,
   "metadata": {},
   "outputs": [],
   "source": [
    "# Extract data from the experimentally generated step response\n",
    "data1 = read_csv(\"data1.csv\", header=None)\n",
    "data2 = read_csv(\"data2.csv\", header=None)\n",
    "data3 = read_csv(\"data3.csv\", header=None)\n",
    "\n",
    "# extract time column of the data matrix\n",
    "dt1 = data1.iloc[:,???]\n",
    "dt2 = data2.iloc[:,???]\n",
    "dt3 = data3.iloc[:,???]\n",
    "\n",
    "# extract third angle column of the data matrix\n",
    "dth1 = data1.iloc[:,???]\n",
    "dth2 = data2.iloc[:,???]\n",
    "dth3 = data3.iloc[:,???]\n",
    "dcommand = data1.iloc[:,1]\n",
    "\n",
    "plot(dt1, dth1, dt2, dth2, dt3, dth3, dt1, dcommand, '--')\n",
    "title(\"Experimental Triangle Waves for the three systems\")\n",
    "xlabel(\"time(s)\")\n",
    "ylabel(\"Position (deg)\")\n",
    "legend([\"P control\",\"Kd = 0.00007, z= 10\",\"Kd = 0.001, z= 10\",\"Command\",\"Location\",\"southwest\"])\n",
    "xlim([0.5, 1.6])\n",
    "ylim([-2200, 2200])\n",
    "show()"
   ]
  },
  {
   "cell_type": "markdown",
   "metadata": {},
   "source": [
    "## Root Locus Plot"
   ]
  },
  {
   "cell_type": "code",
   "execution_count": null,
   "metadata": {},
   "outputs": [],
   "source": [
    "figure()\n",
    "rlocus(???, plot=True)\n",
    "show()"
   ]
  },
  {
   "cell_type": "code",
   "execution_count": null,
   "metadata": {},
   "outputs": [],
   "source": [
    "figure()\n",
    "sisotool(???)\n",
    "show()\n",
    "\n",
    "figure()\n",
    "sisotool(???)\n",
    "show()\n",
    "\n",
    "figure()\n",
    "sisotool(???)\n",
    "show()"
   ]
  }
 ],
 "metadata": {
  "kernelspec": {
   "display_name": ".venv",
   "language": "python",
   "name": "python3"
  },
  "language_info": {
   "codemirror_mode": {
    "name": "ipython",
    "version": 3
   },
   "file_extension": ".py",
   "mimetype": "text/x-python",
   "name": "python",
   "nbconvert_exporter": "python",
   "pygments_lexer": "ipython3",
   "version": "3.12.0"
  },
  "orig_nbformat": 4
 },
 "nbformat": 4,
 "nbformat_minor": 2
}
