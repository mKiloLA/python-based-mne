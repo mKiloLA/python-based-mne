{
 "cells": [
  {
   "cell_type": "markdown",
   "metadata": {},
   "source": [
    "# Lab 4\n",
    "## Setup & Constants\n",
    "Even if you may not need them each time, constants like kt, etc should generally be included\n",
    "\n",
    "**Note:** the usual value for b assumes a freely rotating shaft and collar.  We obviously don't have that this time so we will find it experimentally in the last section."
   ]
  },
  {
   "cell_type": "code",
   "execution_count": null,
   "metadata": {},
   "outputs": [],
   "source": [
    "%matplotlib widget\n",
    "from matplotlib.pyplot import figure, xlabel, ylabel, legend, show, title, xlim, ylim\n",
    "from custom_functions import plot\n",
    "from control.matlab import tf, step\n",
    "from numpy import polyfit, array\n",
    "from math import pi, sqrt\n",
    "from pandas import read_csv"
   ]
  },
  {
   "cell_type": "code",
   "execution_count": null,
   "metadata": {},
   "outputs": [],
   "source": [
    "# motor torque constant (N-m/A)\n",
    "kt = ???\n",
    "\n",
    "# degrees to radians\n",
    "kdr = (2 * pi) / 360\n",
    "\n",
    "# vector of current commands to try in motorlab\n",
    "i = array([-2, -1.5, -1, -0.5, 0, 0.5, 1, 1.5, 2])\n",
    "\n",
    "# vector of position data - determined from motorlab\n",
    "angle = array([???])\n",
    "\n",
    "# convert deg to rad\n",
    "theta = kdr * angle\n",
    "\n",
    "# convert current vector to torque vector\n",
    "T = kt * i"
   ]
  },
  {
   "cell_type": "markdown",
   "metadata": {},
   "source": [
    "## Torque vs Angular Position Experimental and Estimated Plot\n",
    "* Collect a squarewave response from the motorlab as described in the handout\n",
    "* Be sure to name the variable \"stepdata\" so that the code matches your data\n",
    "* Remember to set the *Sample Rate* to 500 Hz, then press the *Calculate Step Response Timing* before collecting stepdata"
   ]
  },
  {
   "cell_type": "code",
   "execution_count": null,
   "metadata": {},
   "outputs": [],
   "source": [
    "# generate two points for straight line fit\n",
    "# the spring isn't likely to move more than 40 degrees\n",
    "\n",
    "# angle estimate\n",
    "theta_estimate = (pi/180) * array([-40, 40])\n",
    "\n",
    "# What is the slope of our motorlab theta vs torque?\n",
    "# first order polynomial fit (returns slope and intercept)\n",
    "fit = polyfit(theta, T, 1)\n",
    "\n",
    "# slope is first element\n",
    "k_estimate = fit[0]\n",
    "\n",
    "# Torque estimate using slope found above\n",
    "T_estimate = k_estimate * theta_estimate\n",
    " \n",
    "# plot straight line with data\n",
    "plot(theta, T, '*', theta_estimate, T_estimate)\n",
    "ylabel('Friction Torque (N-m)')\n",
    "xlabel('Angular Position (rad)')\n",
    "title('Input Torque vs. Angular Position with Estimated Straight Line Fit')\n",
    "legend(['data from Motorlab','straight line estimate'])\n",
    "show()"
   ]
  },
  {
   "cell_type": "markdown",
   "metadata": {},
   "source": [
    "## Find Damping Ratio using Envelope Fit\n",
    "Uncomment this section after completing the above section\n",
    "* Estimate the damping ratio by fitting an envelope to the step response\n",
    "* Requires step response data has been imported into stepdata\n",
    "* Uncomment and complete the lines to find zeta"
   ]
  },
  {
   "cell_type": "code",
   "execution_count": null,
   "metadata": {},
   "outputs": [],
   "source": [
    "# motor inertia (kg-m^2 or N-m-s^2/rad)\n",
    "J = 1.1e-5 + 0.19e-5\n",
    "\n",
    "# spring constant (N-m/rad)\n",
    "ks = k_estimate\n",
    " \n",
    "# DC gain of transfer function\n",
    "Kdc = ???\n",
    "\n",
    "# natural freqency (rad/s)\n",
    "wn = sqrt(ks / J)\n",
    "\n",
    "# estimated damping ratio\n",
    "zeta_estimate = ???\n",
    " \n",
    "# Generate a step response from a first order system with a pole\n",
    "# equal to the real part of the 2nd order poles\n",
    "real_part = zeta_estimate * wn\n",
    "envelope_TF = tf(Kdc * real_part, [1, real_part])\n",
    "[envelope_y, envelope_time] = step(envelope_TF)\n",
    "\n",
    "# Extract data from the experimentally generated step response\n",
    "stepdata = read_csv(\"stepdata.csv\", header=None)\n",
    "\n",
    "# extract time column of the data matrix\n",
    "dataTime = stepdata.iloc[???]\n",
    "\n",
    "# extract third angle column of the data matrix\n",
    "dataAngle = stepdata.iloc[???]\n",
    "\n",
    "# convert to rad\n",
    "dataTh = kdr * dataAngle\n",
    "\n",
    "plot(dataTime, dataTh, envelope_time, envelope_y, '--')\n",
    "ylabel('Angular Position (rad)')\n",
    "xlabel('Time (sec)')\n",
    "ylim(-0.01, 0.55)\n",
    "xlim(-0.01, 0.7)\n",
    "title('Step Response Data with Estimated Envelope')\n",
    "legend(['step response from Motorlab','estimated envelope'])\n",
    "show()"
   ]
  },
  {
   "cell_type": "markdown",
   "metadata": {},
   "source": [
    "## Find coefficients and compare model to experimental data\n",
    "Uncomment this section after completing the above section\n",
    "* Find coefficients and compare model to experimental data\n",
    "* Requires step response has been imported into stepdata\n",
    "* Uncomment and complete the lines below to generate the step response comparison and to print coeficients"
   ]
  },
  {
   "cell_type": "code",
   "execution_count": null,
   "metadata": {},
   "outputs": [],
   "source": [
    "# Print coefficients for different forms of the TF\n",
    "\n",
    "# damping ratio\n",
    "print(\"zeta_estimate = {}\".format(zeta_estimate))\n",
    "\n",
    "# natural frequency (rad/s)\n",
    "print(\"wn = {}\".format(wn))\n",
    "\n",
    "# friction coeffienct (N-m-s/rad)\n",
    "b = ???\n",
    "print(\"b = {}\".format(b))\n",
    "\n",
    "# damped oscillation frequency (rad/s)\n",
    "wd = wn * sqrt(1 - zeta_estimate**2)\n",
    "print(\"wd = {}\".format(wd))\n",
    "\n",
    "# period of oscillations (sec)\n",
    "Tosc = 2 * pi / wd\n",
    "print(\"Tosc = {}\".format(Tosc))\n",
    "\n",
    "# motor inertia (N-m-s^2/rad)\n",
    "print(\"J = {}\".format(J))\n",
    "\n",
    "# spring constant (N-m/rad)\n",
    "print(\"ks = {}\".format(ks))\n",
    " \n",
    "# Print both forms of the TF\n",
    "G = tf(???, [???, ???, ???], display_format='zpk')\n",
    "Gcheck = tf(???, [??? ??? ???], display_format='zpk')\n",
    "print(\"G = {}\".format(G))\n",
    "print(\"G_check = {}\".format(Gcheck))\n",
    "\n",
    "# size of step input\n",
    "I = 1\n",
    "\n",
    "# get the theoretical step response\n",
    "[theoryTh, theoryTime] = step(I * G)\n",
    " \n",
    "# DO THE PLOT COMPARING THE ACTUAL STEP RESPONSE TO THE MODEL\n",
    "plot(???, ???, ???, ???, '--')\n",
    "ylabel('Angular Position (rad)')\n",
    "xlabel('Time (sec)')\n",
    "title('Step Response Data with Estimated Envelope')\n",
    "legend(['step response from Motorlab','Theoretical Step Response'])\n",
    "show()"
   ]
  }
 ],
 "metadata": {
  "kernelspec": {
   "display_name": "control_of_mechanical_systems-I6JSgzqt-py3.10",
   "language": "python",
   "name": "python3"
  },
  "language_info": {
   "codemirror_mode": {
    "name": "ipython",
    "version": 3
   },
   "file_extension": ".py",
   "mimetype": "text/x-python",
   "name": "python",
   "nbconvert_exporter": "python",
   "pygments_lexer": "ipython3",
   "version": "3.11.0"
  },
  "orig_nbformat": 4
 },
 "nbformat": 4,
 "nbformat_minor": 2
}
