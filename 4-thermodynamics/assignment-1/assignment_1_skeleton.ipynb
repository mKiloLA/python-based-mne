{
 "cells": [
  {
   "cell_type": "markdown",
   "metadata": {},
   "source": [
    "# ME 513: Thermodynamics Assignment 1"
   ]
  },
  {
   "cell_type": "markdown",
   "metadata": {},
   "source": [
    "## 0. Problem Statement\n",
    "\n",
    "Water is the working fluid in a Rankine cycle. Steam exits the steam generator at 1500 lbf/in<sup>2</sup>  and 1100°F. Due to heat transfer and frictional effects in the line connecting the steam generator and turbine, the pressure and temperature at the turbine inlet are reduced to 1400 lbf/in<sup>2</sup> and 1000°F, respectively. Both the turbine and pump have isentropic efficiencies of 85%. Pressure at the condenser inlet is 2 lbf/in<sup>2</sup>, but due to frictional effects the condensate exits the condenser at a pressure of 1.5 lbf/in<sup>2</sup> and a temperature of 110°F. The condensate is pumped to 1600 lbf/in<sup>2</sup> before entering the steam generator. The net power output of the cycle is 1x10<sup>9</sup> Btu/h. Cooling water experiences a temperature increase from 60°F to 76°F, with negligible pressure drop, as it passes through the condenser. Determine for the cycle\n",
    "\n",
    "1. the mass flow rate of steam, in lb/h.\n",
    "2. the rate of heat transfer, in Btu/h, to the working fluid passing through the steam generator. \n",
    "3. the thermal efficiency.\n",
    "4. the mass flow rate of cooling water, in lb/h.\n",
    "\n",
    "Be sure to specify all assumptions and comment on the functionality of the code. To access thermodynamic tables, uncomment and run the line below to install PYroMat."
   ]
  },
  {
   "cell_type": "code",
   "execution_count": null,
   "metadata": {
    "vscode": {
     "languageId": "shellscript"
    }
   },
   "outputs": [],
   "source": [
    "# pip install pyromat"
   ]
  },
  {
   "cell_type": "markdown",
   "metadata": {},
   "source": [
    "Below are suggested imports for completing the project. Be sure to run the imports before running any code. Additional code is provided for setting the units that returned values will have."
   ]
  },
  {
   "cell_type": "code",
   "execution_count": 2,
   "metadata": {},
   "outputs": [],
   "source": [
    "import pyromat\n",
    "\n",
    "pyromat.config[\"unit_energy\"] = \"BTU\"\n",
    "pyromat.config[\"unit_force\"] = \"lbf\"\n",
    "pyromat.config[\"unit_length\"] = \"in\"\n",
    "pyromat.config[\"unit_mass\"] = \"lb\"\n",
    "pyromat.config[\"unit_matter\"] = \"lb\"\n",
    "pyromat.config[\"unit_molar\"] = \"lbmol\"\n",
    "pyromat.config[\"unit_pressure\"] = \"psi\"\n",
    "pyromat.config[\"unit_temperature\"] = \"F\"\n",
    "pyromat.config[\"unit_volume\"] = \"ft3\"\n",
    "H2O = pyromat.get(\"mp.H2O\")"
   ]
  },
  {
   "cell_type": "markdown",
   "metadata": {},
   "source": [
    "Before solving, the states must be set."
   ]
  },
  {
   "cell_type": "code",
   "execution_count": null,
   "metadata": {},
   "outputs": [],
   "source": [
    "pass"
   ]
  },
  {
   "cell_type": "markdown",
   "metadata": {},
   "source": [
    "## 1. The Mass Flow Rate of the Steam"
   ]
  },
  {
   "cell_type": "code",
   "execution_count": null,
   "metadata": {},
   "outputs": [],
   "source": [
    "pass"
   ]
  },
  {
   "cell_type": "markdown",
   "metadata": {},
   "source": [
    "## 2. The Rate of Heat Transfer"
   ]
  },
  {
   "cell_type": "code",
   "execution_count": null,
   "metadata": {},
   "outputs": [],
   "source": [
    "pass"
   ]
  },
  {
   "cell_type": "markdown",
   "metadata": {},
   "source": [
    "## 3. The Thermal Efficiency"
   ]
  },
  {
   "cell_type": "code",
   "execution_count": null,
   "metadata": {},
   "outputs": [],
   "source": [
    "pass"
   ]
  },
  {
   "cell_type": "markdown",
   "metadata": {},
   "source": [
    "## 4. The Mass Flow Rate of Cooling Water"
   ]
  },
  {
   "cell_type": "code",
   "execution_count": null,
   "metadata": {},
   "outputs": [],
   "source": [
    "pass"
   ]
  }
 ],
 "metadata": {
  "kernelspec": {
   "display_name": "Python 3",
   "language": "python",
   "name": "python3"
  },
  "language_info": {
   "codemirror_mode": {
    "name": "ipython",
    "version": 3
   },
   "file_extension": ".py",
   "mimetype": "text/x-python",
   "name": "python",
   "nbconvert_exporter": "python",
   "pygments_lexer": "ipython3",
   "version": "3.11.4"
  }
 },
 "nbformat": 4,
 "nbformat_minor": 2
}
