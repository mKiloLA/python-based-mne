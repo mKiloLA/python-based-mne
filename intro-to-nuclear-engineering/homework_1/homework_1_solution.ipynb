{
 "cells": [
  {
   "cell_type": "markdown",
   "metadata": {},
   "source": [
    "# NE 495: Lecture 20 Homework"
   ]
  },
  {
   "cell_type": "markdown",
   "metadata": {},
   "source": [
    "Be sure to specify all assumptions, provide commentary on the numbers being calculated, and comment on the functionality of the code. The necessary imports are included below."
   ]
  },
  {
   "cell_type": "code",
   "execution_count": 34,
   "metadata": {},
   "outputs": [
    {
     "name": "stdout",
     "output_type": "stream",
     "text": [
      "[[0.001, 4078.0, 4065.0], [0.0015, 1376.0, 1372.0], [0.002, 617.3, 615.2], [0.003, 192.9, 191.7], [0.004, 82.78, 81.91], [0.005, 42.58, 41.88], [0.006, 24.64, 24.05], [0.008, 10.37, 9.915], [0.01, 5.329, 4.944], [0.015, 1.673, 1.374], [0.02, 0.8096, 0.5503], [0.03, 0.3756, 0.1557], [0.04, 0.2683, 0.06947], [0.05, 0.2269, 0.04223], [0.06, 0.2059, 0.0319], [0.08, 0.1837, 0.02597], [0.1, 0.1707, 0.02546], [0.15, 0.1505, 0.02764], [0.2, 0.137, 0.02967], [0.3, 0.1186, 0.03192], [0.4, 0.1061, 0.03279], [0.5, 0.09687, 0.03299], [0.6, 0.08956, 0.03284], [0.8, 0.07865, 0.03206], [1.0, 0.07072, 0.03103], [1.25, 0.06323, 0.02965], [1.5, 0.05754, 0.02833], [2.0, 0.04942, 0.02608], [3.0, 0.03969, 0.02281], [4.0, 0.03403, 0.02066], [5.0, 0.03031, 0.01915], [6.0, 0.0277, 0.01806], [8.0, 0.02429, 0.01658], [10.0, 0.02219, 0.01566], [15.0, 0.01941, 0.01441], [20.0, 0.01813, 0.01382]]\n"
     ]
    }
   ],
   "source": [
    "from numpy import exp\n",
    "from physdata import xray\n",
    "print(xray.fetch_coefficients(\"water\", density=1))\n",
    "def get_attenuation_co(compound, mev, coeff_type, density=None):\n",
    "    \"\"\"Get the attenuation coefficiant for a compound.\n",
    "    \n",
    "    Args:\n",
    "        compound: str, the element/compound to search table for\n",
    "        mev: float, the energy amount in MeV\n",
    "        density: float, the density of the given element\n",
    "    \n",
    "    Returns:\n",
    "        float, returns attentuation coefficient in cm^2/g if\n",
    "        no density is given. Otherwise returns in cm^-1\n",
    "    \"\"\"\n",
    "    prev_compound = None\n",
    "    next_compound = None\n",
    "\n",
    "    if coeff_type == \"absorption\":\n",
    "        coeff_type = 2\n",
    "    elif coeff_type == \"attenuation\":\n",
    "        coeff_type = 1\n",
    "    else:\n",
    "        coeff_type = 1\n",
    "\n",
    "    if density == None:\n",
    "        comp_table = xray.fetch_coefficients(compound)\n",
    "    else:\n",
    "        comp_table = xray.fetch_coefficients(compound, density=density)\n",
    "\n",
    "    for i in range(len(comp_table)):\n",
    "        if comp_table[i][0] == mev:\n",
    "            return comp_table[i][coeff_type]\n",
    "        elif comp_table[i][0] < mev:\n",
    "            prev_compound = comp_table[i]\n",
    "        elif comp_table[i][0] > mev:\n",
    "            next_compound = comp_table[i]\n",
    "            return (prev_compound[coeff_type] + \n",
    "                    (mev - prev_compound[0]) * \n",
    "                    (next_compound[coeff_type] - prev_compound[coeff_type])/\n",
    "                    (next_compound[0] - prev_compound[0]))"
   ]
  },
  {
   "cell_type": "markdown",
   "metadata": {},
   "source": [
    "## Problem 1"
   ]
  },
  {
   "cell_type": "markdown",
   "metadata": {},
   "source": [
    "What fraction (not percent) of 2.5 MeV photons interact within 1 foot of water?"
   ]
  },
  {
   "cell_type": "markdown",
   "metadata": {},
   "source": [
    "### Solution"
   ]
  },
  {
   "cell_type": "markdown",
   "metadata": {},
   "source": [
    "Using the equation I/I<sub>0</sub> = e<sup>(-μ*x)</sup>, we can get the ratio that does not interact with the water."
   ]
  },
  {
   "cell_type": "code",
   "execution_count": 30,
   "metadata": {},
   "outputs": [],
   "source": [
    "mew = get_attenuation_co(\"water\", 2.5, \"attenuation\", 1) # cm-1\n",
    "x = 12 * 2.54 # 12 inches * 2.54 cm/inch\n",
    "I_ratio = exp(-mew * x)"
   ]
  },
  {
   "cell_type": "markdown",
   "metadata": {},
   "source": [
    "To get the ratio that does interact with the water, take 1 - I_ratio."
   ]
  },
  {
   "cell_type": "code",
   "execution_count": 31,
   "metadata": {},
   "outputs": [
    {
     "name": "stdout",
     "output_type": "stream",
     "text": [
      "I/I0 = 0.743\n"
     ]
    }
   ],
   "source": [
    "interact_ratio = 1 - I_ratio\n",
    "print(f\"I/I0 = {interact_ratio:.3f}\")"
   ]
  },
  {
   "cell_type": "markdown",
   "metadata": {},
   "source": [
    "## Problem 2"
   ]
  },
  {
   "cell_type": "markdown",
   "metadata": {},
   "source": [
    "What fraction (not percent) of 2.5 MeV photons are absorbed by 1 foot of water?"
   ]
  },
  {
   "cell_type": "markdown",
   "metadata": {},
   "source": [
    "Using the equation I/I<sub>0</sub> = e<sup>(-μ*x)</sup>, we can get the ratio that does not get absorbed by the water."
   ]
  },
  {
   "cell_type": "code",
   "execution_count": 32,
   "metadata": {},
   "outputs": [],
   "source": [
    "mew = get_attenuation_co(\"water\", 2.5, \"absorption\", 1) # cm-1\n",
    "x = 12 * 2.54 # 12 inches * 2.54 cm/inch\n",
    "I_ratio = exp(-mew * x)"
   ]
  },
  {
   "cell_type": "markdown",
   "metadata": {},
   "source": [
    "To get the amount that is not absorbed, take 1 - I_ratio."
   ]
  },
  {
   "cell_type": "code",
   "execution_count": 33,
   "metadata": {},
   "outputs": [
    {
     "name": "stdout",
     "output_type": "stream",
     "text": [
      "I/I0 = 0.525\n"
     ]
    }
   ],
   "source": [
    "interact_ratio = 1 - I_ratio\n",
    "print(f\"I/I0 = {interact_ratio:.3f}\")"
   ]
  }
 ],
 "metadata": {
  "kernelspec": {
   "display_name": "Python 3",
   "language": "python",
   "name": "python3"
  },
  "language_info": {
   "codemirror_mode": {
    "name": "ipython",
    "version": 3
   },
   "file_extension": ".py",
   "mimetype": "text/x-python",
   "name": "python",
   "nbconvert_exporter": "python",
   "pygments_lexer": "ipython3",
   "version": "3.12.0"
  }
 },
 "nbformat": 4,
 "nbformat_minor": 2
}
