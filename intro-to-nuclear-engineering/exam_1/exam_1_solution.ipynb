{
 "cells": [
  {
   "cell_type": "markdown",
   "metadata": {},
   "source": [
    "# NE 495: Exam 1 Question 9"
   ]
  },
  {
   "cell_type": "markdown",
   "metadata": {},
   "source": [
    "## Problem Statement\n",
    "\n",
    "It has been proposed to extract uranium from sea water to produce nuclear reactor fuel. Assume that the total volume of the oceans is 1.3 × 109 km3, the uranium concentration in the ocean is 3 parts per billion water molecules, and the total annual electricity consumption in the U.S. is 4,095 Billion kWh (1 kWh = 3.6 × 106 J). Assume further that every single 235U nucleus ﬁssions according to the reaction n + 235U → 139Ba + 95Kr + 2 n and that 30% of all of the energy can be recovered for electrical production. \n",
    "\n",
    "How many years could the oceanic uranium power the U.S.?\n",
    "\n",
    "Be sure to specify all assumptions, provide commentary on the numbers being calculated, and comment on the functionality of the code. The necessary imports are included below."
   ]
  },
  {
   "cell_type": "code",
   "execution_count": 75,
   "metadata": {},
   "outputs": [],
   "source": [
    "import mendeleev as md\n",
    "from scipy.constants import N_A, eV, physical_constants"
   ]
  },
  {
   "cell_type": "markdown",
   "metadata": {},
   "source": [
    "## Solution"
   ]
  },
  {
   "cell_type": "markdown",
   "metadata": {},
   "source": [
    "The first step is to declare known constants. Water is assume to have a density of 1 g/cm<sup>3</sup>."
   ]
  },
  {
   "cell_type": "code",
   "execution_count": 76,
   "metadata": {},
   "outputs": [],
   "source": [
    "ocean_vol = 1.3e9 # km3\n",
    "uranium_conc = 3/1e9 # ppb\n",
    "energy_consumption = 4095e9 # kWh\n",
    "water_density = 1 # g/cm3\n",
    "recovery_rate = 0.3\n",
    "\n",
    "kwh_to_j = 3.6e6 # J/kWh\n",
    "cm_to_km = 1e-5 # km/cm\n",
    "\n",
    "# Declarations for convinience\n",
    "H = md.element(\"Hydrogen\")\n",
    "O = md.element(\"Oxygen\")\n",
    "U = md.element(\"Uranium\")\n",
    "Ba = md.element(\"Barium\")\n",
    "Kr = md.element(\"Krypton\")"
   ]
  },
  {
   "cell_type": "markdown",
   "metadata": {},
   "source": [
    "The total mass of oceanic water can then be found by multiplying the volume and density of the water. "
   ]
  },
  {
   "cell_type": "code",
   "execution_count": 77,
   "metadata": {},
   "outputs": [
    {
     "name": "stdout",
     "output_type": "stream",
     "text": [
      "m_water = 1.3E+24 g\n"
     ]
    }
   ],
   "source": [
    "mass_water = ocean_vol * water_density / cm_to_km**3\n",
    "print(f\"m_water = {mass_water:.1E} g\")"
   ]
  },
  {
   "cell_type": "markdown",
   "metadata": {},
   "source": [
    "With the total mass of the water, we can now find the total number of water molecules. "
   ]
  },
  {
   "cell_type": "code",
   "execution_count": 78,
   "metadata": {},
   "outputs": [
    {
     "name": "stdout",
     "output_type": "stream",
     "text": [
      "N_w = 4.346E+46 molecules\n"
     ]
    }
   ],
   "source": [
    "water_molecule_mass = 2* H.atomic_weight + O.atomic_weight\n",
    "water_molecules = mass_water * N_A / water_molecule_mass\n",
    "print(f\"N_w = {water_molecules:.3E} molecules\")"
   ]
  },
  {
   "cell_type": "markdown",
   "metadata": {},
   "source": [
    "Now using the ratio of uranium and water molecules in the ocean, we can find the number of uranium molecules in the water."
   ]
  },
  {
   "cell_type": "code",
   "execution_count": 79,
   "metadata": {},
   "outputs": [
    {
     "name": "stdout",
     "output_type": "stream",
     "text": [
      "N_U = 1.304E+38 molecules\n"
     ]
    }
   ],
   "source": [
    "uranium_molecules = uranium_conc * water_molecules\n",
    "print(f\"N_U = {uranium_molecules:.3E} molecules\")"
   ]
  },
  {
   "cell_type": "markdown",
   "metadata": {},
   "source": [
    "With the number of uranium molecules, we can use the standard isotope distribution to find the amount of U-235."
   ]
  },
  {
   "cell_type": "code",
   "execution_count": 80,
   "metadata": {},
   "outputs": [
    {
     "name": "stdout",
     "output_type": "stream",
     "text": [
      "N_235 = 9.392E+35 molecules\n"
     ]
    }
   ],
   "source": [
    "uranium_235_abundance = [x.abundance for x in U.isotopes if x.mass_number == 235][0] # %\n",
    "uranium_235_molecules = uranium_235_abundance * uranium_molecules / 100\n",
    "print(f\"N_235 = {uranium_235_molecules:.3E} molecules\")"
   ]
  },
  {
   "cell_type": "markdown",
   "metadata": {},
   "source": [
    "Next, we want to find the Q value of the fission."
   ]
  },
  {
   "cell_type": "code",
   "execution_count": 81,
   "metadata": {},
   "outputs": [
    {
     "name": "stdout",
     "output_type": "stream",
     "text": [
      "Q_fission = 173.9 MeV\n"
     ]
    }
   ],
   "source": [
    "c_2 = physical_constants[\"atomic mass constant energy equivalent in MeV\"][0] # 931.5 MeV / amu\n",
    "neutron_mass = physical_constants[\"neutron mass in u\"][0] # 1.008 amu\n",
    "uran_235_mass = [x.mass for x in U.isotopes if x.mass_number == 235][0] # amu\n",
    "barium_139_mass = [x.mass for x in Ba.isotopes if x.mass_number == 139][0] # amu\n",
    "krypton_95_mass = [x.mass for x in Kr.isotopes if x.mass_number == 95][0] # amu\n",
    "\n",
    "q_value = c_2 * (uran_235_mass + neutron_mass - barium_139_mass - krypton_95_mass - 2*neutron_mass) # MeV\n",
    "print(f\"Q_fission = {q_value:.1f} MeV\")"
   ]
  },
  {
   "cell_type": "markdown",
   "metadata": {},
   "source": [
    "Now that we have the Q value, we can find the total energy and compare it to the total annual US consumption to find the number of years that the US could be powered. The total energy can be found by multiplying the Q value by the number of reactions and the recovery ratio."
   ]
  },
  {
   "cell_type": "code",
   "execution_count": 82,
   "metadata": {},
   "outputs": [
    {
     "name": "stdout",
     "output_type": "stream",
     "text": [
      "E_U = 7.851E+24 J\n",
      "years of power = 5.326E+05 years\n"
     ]
    }
   ],
   "source": [
    "energy_total = q_value * uranium_235_molecules * recovery_rate * eV*10**6 # J\n",
    "years = energy_total / (energy_consumption * kwh_to_j)\n",
    "\n",
    "print(f\"E_U = {energy_total:.3E} J\")\n",
    "print(f\"years of power = {years:.3E} years\")"
   ]
  }
 ],
 "metadata": {
  "kernelspec": {
   "display_name": "Python 3",
   "language": "python",
   "name": "python3"
  },
  "language_info": {
   "codemirror_mode": {
    "name": "ipython",
    "version": 3
   },
   "file_extension": ".py",
   "mimetype": "text/x-python",
   "name": "python",
   "nbconvert_exporter": "python",
   "pygments_lexer": "ipython3",
   "version": "3.12.0"
  }
 },
 "nbformat": 4,
 "nbformat_minor": 2
}
