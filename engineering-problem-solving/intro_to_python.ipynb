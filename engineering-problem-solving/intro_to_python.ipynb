{
 "cells": [
  {
   "cell_type": "markdown",
   "metadata": {},
   "source": [
    "# Intro to Python\n",
    "\n",
    "Simple Python notebook that shows various ways to effectively parse data with a programming language. This solution will not use any Python libraries, built in or installed. A seperate notebook will cover that solution\n",
    "\n",
    "## Problem Statement\n",
    "\n",
    "You are given a file of tire rotations per minute in a file called `vehicle_speed.csv` and are tasked with finding the max, min, mean, mode, and median speed of the vehicle. Bonus points for a graph!\n",
    "\n",
    "----"
   ]
  },
  {
   "cell_type": "markdown",
   "metadata": {},
   "source": [
    "To solve this problem, let's split it into steps and solve each issue one a time.\n",
    "\n",
    "1. Read and parse the data from the .csv file\n",
    "2. Convert the RPM data into vehicle speed\n",
    "3. Find the max, min, mean, mode, and median\n",
    "\n",
    "## Step 1: Read and parse the data\n",
    "\n",
    "To begin, open the file with the name 'vehicle_speed.csv' in 'reader' mode. The reader mode comes from the \"r\" inside the open statement. When opened, the contents are in the file_contents object and can be read using the 'read' method."
   ]
  },
  {
   "cell_type": "code",
   "execution_count": 49,
   "metadata": {},
   "outputs": [],
   "source": [
    "with open(\"vehicle_speed.csv\", \"r\") as file_contents:\n",
    "    rpm = file_contents.read()"
   ]
  },
  {
   "cell_type": "markdown",
   "metadata": {},
   "source": [
    "The rpm values were saved as one long string where the values are seperated by commas. The string method 'split' will allow us to split the string on any seperator and return a list"
   ]
  },
  {
   "cell_type": "code",
   "execution_count": 50,
   "metadata": {},
   "outputs": [],
   "source": [
    "rpm = rpm.split(',')"
   ]
  },
  {
   "cell_type": "markdown",
   "metadata": {},
   "source": [
    "The data is in a convienent list, but the data types are all strings. For us to do math, they need to be integers or floats. One way to convert every string in the list to an integer is to use a for loop. This loop will run the number of times indicated in the range function. The first argument is 0 and the second argument is the length of the rpm list. This indicates that it will run once for every value in rpm"
   ]
  },
  {
   "cell_type": "code",
   "execution_count": 51,
   "metadata": {},
   "outputs": [],
   "source": [
    "for i in range(0, len(rpm)):\n",
    "    rpm[i] = int(rpm[i].strip())"
   ]
  },
  {
   "cell_type": "markdown",
   "metadata": {},
   "source": [
    "---\n",
    "## Bonus Content #1\n",
    "Alternative ways to do this would include\n",
    "\n",
    "```python\n",
    "rpm = [int(x) for x in rpm]\n",
    "```\n",
    "\n",
    "or\n",
    "\n",
    "```python\n",
    "rpm_new = []\n",
    "for rpm_value in rpm:\n",
    "    rpm_new.append(int(rpm_value))\n",
    "```\n",
    "---"
   ]
  },
  {
   "cell_type": "markdown",
   "metadata": {},
   "source": [
    "## Step 2: Converting RPM to vehicle speed\n",
    "\n",
    "Now that we have a list of numbers, we can begin to do math with the values. Remember that these values are tire RPMs, not the speed of the car. So these values all need to be converted to speed. Let's look at the units to figure out how to convert RPM to mph.\n",
    "\n",
    "    rotations/minute * ?? = miles/hour\n",
    "\n",
    "    (minutes/hour) * (miles/rotation) = ??\n",
    "\n",
    "We know there are 60 minutes per one hour, so we can substitute that value in, but we currently do not know how many miles we travel per one rotation of the wheel. The total distance traveled with one rotation would equal to the circumference of the tire. The formula for the circumference of a circle is 'π * d' where d is the diamter of the tire. Let's assume the diameter of the tire is 20\". \n",
    "\n",
    "    π * 20 inches = 20π inches\n",
    "\n",
    "But this number needs to be in miles, not inches. To convert from inches to miles, we divide by 63360 (thank you Google). This gives us:\n",
    "\n",
    "    20π / 63360 miles = 0.000991 miles\n",
    "\n",
    "Plugging this back into the equation gives us:\n",
    "\n",
    "    60 minutes/hr * 0.000991 miles/rotation = 0.0595 (minutes/rotation)(miles/hr)\n",
    "\n",
    "Finally, if we multiply our RPM value (say 1000rpm) with the conversion factor, we get:\n",
    "\n",
    "    1000 (rotation/minute) * 0.0595 (minutes/rotation)(miles/hr) = 59.5 mph\n",
    "\n",
    "With this conversion factor in hand, we can now convert all the values in our rpm list to speeds."
   ]
  },
  {
   "cell_type": "code",
   "execution_count": 52,
   "metadata": {},
   "outputs": [],
   "source": [
    "speed = []\n",
    "for rpm_value in rpm:\n",
    "    speed.append(rpm_value * 0.0595)"
   ]
  },
  {
   "cell_type": "markdown",
   "metadata": {},
   "source": [
    "## Step 3: Finding the statistical properties of the data\n",
    "\n",
    "With the speed values now acquired, lets find the maximum, minumum, and mean. These three can be found relatively simply thanks to built in Python methods."
   ]
  },
  {
   "cell_type": "code",
   "execution_count": 53,
   "metadata": {},
   "outputs": [
    {
     "name": "stdout",
     "output_type": "stream",
     "text": [
      "The max speed was 85mph.\n",
      "The min speed was 0mph.\n",
      "The mean speed was 54mph.\n"
     ]
    }
   ],
   "source": [
    "speed_max = max(speed)\n",
    "speed_min = min(speed)\n",
    "speed_mean = sum(speed) / len(speed)\n",
    "print(\"The max speed was {:.0f}mph.\".format(speed_max))\n",
    "print(\"The min speed was {:.0f}mph.\".format(speed_min))\n",
    "print(\"The mean speed was {:.0f}mph.\".format(speed_mean))"
   ]
  },
  {
   "cell_type": "markdown",
   "metadata": {},
   "source": [
    "Getting the mode and median without using complex expressions or external libraries requires more thinking than the others. Let's start with the mode. We need to figure out a way to count the number of times each speed occurs. We can do this using a dictionary and adding one to its counter (value) every time the speed (key) occurs. After getting the number of times each speed occurs, we search for the maximum count value, which will correspond to the mode of the speed."
   ]
  },
  {
   "cell_type": "code",
   "execution_count": 54,
   "metadata": {},
   "outputs": [
    {
     "name": "stdout",
     "output_type": "stream",
     "text": [
      "The mode speed was 85mph.\n"
     ]
    }
   ],
   "source": [
    "mode_dict = {}\n",
    "\n",
    "for speed_value in speed:\n",
    "    if speed_value in mode_dict:\n",
    "        mode_dict[speed_value] += 1\n",
    "    else:\n",
    "        mode_dict[speed_value] = 1\n",
    "\n",
    "speed_count = 0\n",
    "speed_mode = 0\n",
    "for key in mode_dict:\n",
    "    if mode_dict[key] > speed_count:\n",
    "        speed_mode = key\n",
    "\n",
    "print(\"The mode speed was {:.0f}mph.\".format(speed_mode))"
   ]
  },
  {
   "cell_type": "markdown",
   "metadata": {},
   "source": [
    "---\n",
    "## Bonus Content #2\n",
    "\n",
    "Alternatively, the following method could be used:\n",
    "\n",
    "```Python\n",
    "speed_mode = max(set(speed), key=speed.count)\n",
    "```\n",
    "---"
   ]
  },
  {
   "cell_type": "markdown",
   "metadata": {},
   "source": [
    "Lastly, we need to find the median. This stat requires more thinking than the others. The first thing we need to do is sort the data. Once the data is sorted, we need to find the middle most value."
   ]
  },
  {
   "cell_type": "code",
   "execution_count": 55,
   "metadata": {},
   "outputs": [
    {
     "name": "stdout",
     "output_type": "stream",
     "text": [
      "The median speed was 57mph.\n"
     ]
    }
   ],
   "source": [
    "speed = sorted(speed)\n",
    "middle_number_index = len(speed) // 2\n",
    "speed_median = (speed[middle_number_index] + speed[-middle_number_index]) / 2\n",
    "\n",
    "print(\"The median speed was {:.0f}mph.\".format(speed_median))"
   ]
  }
 ],
 "metadata": {
  "kernelspec": {
   "display_name": "Python 3",
   "language": "python",
   "name": "python3"
  },
  "language_info": {
   "codemirror_mode": {
    "name": "ipython",
    "version": 3
   },
   "file_extension": ".py",
   "mimetype": "text/x-python",
   "name": "python",
   "nbconvert_exporter": "python",
   "pygments_lexer": "ipython3",
   "version": "3.10.12"
  },
  "orig_nbformat": 4
 },
 "nbformat": 4,
 "nbformat_minor": 2
}
