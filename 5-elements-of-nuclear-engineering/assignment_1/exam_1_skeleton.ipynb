{
 "cells": [
  {
   "cell_type": "markdown",
   "metadata": {},
   "source": [
    "# NE 495: Exam 1 Question 9"
   ]
  },
  {
   "cell_type": "markdown",
   "metadata": {},
   "source": [
    "## Problem Statement\n",
    "\n",
    "It has been proposed to extract uranium from sea water to produce nuclear reactor fuel. Assume that the total volume of the oceans is 1.3 × 109 km3, the uranium concentration in the ocean is 3 parts per billion water molecules, and the total annual electricity consumption in the U.S. is 4,095 Billion kWh (1 kWh = 3.6 × 106 J). Assume further that every single $ {}^{235}U $ nucleus fissions according to the reaction n + ${}^{235}U$ → ${}^{139}Ba$ + ${}^{95}Kr$ + 2n and that 30% of all of the energy can be recovered for electrical production. \n",
    "\n",
    "How many years could the oceanic uranium power the U.S.?\n",
    "\n",
    "Be sure to specify all assumptions, provide commentary on the numbers being calculated, and comment on the functionality of the code. The necessary imports are included below."
   ]
  },
  {
   "cell_type": "code",
   "execution_count": null,
   "metadata": {},
   "outputs": [],
   "source": [
    "import mendeleev as md\n",
    "from scipy.constants import N_A, eV, physical_constants"
   ]
  },
  {
   "cell_type": "markdown",
   "metadata": {},
   "source": [
    "## Solution"
   ]
  },
  {
   "cell_type": "code",
   "execution_count": null,
   "metadata": {},
   "outputs": [],
   "source": []
  }
 ],
 "metadata": {
  "kernelspec": {
   "display_name": "Python 3",
   "language": "python",
   "name": "python3"
  },
  "language_info": {
   "name": "python",
   "version": "3.12.0"
  }
 },
 "nbformat": 4,
 "nbformat_minor": 2
}
